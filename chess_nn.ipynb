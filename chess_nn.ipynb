{
 "metadata": {
  "language_info": {
   "codemirror_mode": {
    "name": "ipython",
    "version": 3
   },
   "file_extension": ".py",
   "mimetype": "text/x-python",
   "name": "python",
   "nbconvert_exporter": "python",
   "pygments_lexer": "ipython3",
   "version": "3.9.1-final"
  },
  "orig_nbformat": 2,
  "kernelspec": {
   "name": "python3",
   "display_name": "Python 3.9.1 64-bit",
   "metadata": {
    "interpreter": {
     "hash": "f89e368b908d1a3af1a9cb902a14ad307df42a403bd95d8c2513650abfe81cff"
    }
   }
  }
 },
 "nbformat": 4,
 "nbformat_minor": 2,
 "cells": [
  {
   "cell_type": "code",
   "execution_count": 1,
   "metadata": {},
   "outputs": [],
   "source": [
    "import chess\n",
    "import chess.engine\n",
    "\n",
    "import numpy as np\n",
    "import pandas as pd\n",
    "import random\n",
    "\n",
    "import torch\n",
    "import torch.nn as nn\n",
    "import torch.nn.functional as F\n",
    "import torch.optim as optim\n",
    "from torch.utils.data import Dataset, DataLoader"
   ]
  },
  {
   "source": [
    "https://python-chess.readthedocs.io/en/latest/\n",
    "\n",
    "https://python-chess.readthedocs.io/en/latest/core.html"
   ],
   "cell_type": "markdown",
   "metadata": {}
  },
  {
   "cell_type": "code",
   "execution_count": 2,
   "metadata": {},
   "outputs": [],
   "source": [
    "STOCKFISH = chess.engine.SimpleEngine.popen_uci(\"Stockfish/stockfish_13_win_x64_bmi2\")\n",
    "\n",
    "def stockfish_evaluation(board, depth=25):\n",
    "    info = STOCKFISH.analyse(board, chess.engine.Limit(depth=depth))\n",
    "    board_eval = info['score'].white().score(mate_score=100000)\n",
    "    return board_eval\n"
   ]
  },
  {
   "cell_type": "code",
   "execution_count": 3,
   "metadata": {},
   "outputs": [],
   "source": [
    "class ChessDataset(Dataset):\n",
    "    \"\"\"Chess Positions Evaluation Dataset\"\"\"\n",
    "\n",
    "    def __init__(self, csv_file):\n",
    "        self.df = pd.read_csv(csv_file)\n",
    "    \n",
    "    def __len__(self):\n",
    "        return len(self.df)\n",
    "\n",
    "    def __getitem__(self, idx):\n",
    "        if torch.is_tensor(idx):\n",
    "            idx = idx.tolist()\n",
    "\n",
    "        position = np.array(self.df.iloc[idx, :-1])\n",
    "        eval_ = np.array(self.df.iloc[idx, -1])\n",
    "        \n",
    "        sample = {'position': torch.from_numpy(position), 'eval': torch.from_numpy(eval_)}\n",
    "\n",
    "        return sample"
   ]
  },
  {
   "cell_type": "code",
   "execution_count": 4,
   "metadata": {},
   "outputs": [],
   "source": [
    "dataset = ChessDataset(csv_file='data/stockfish_depth0b.csv')"
   ]
  },
  {
   "cell_type": "code",
   "execution_count": 5,
   "metadata": {},
   "outputs": [],
   "source": [
    "class Net(nn.Module):\n",
    "\n",
    "    def __init__(self):\n",
    "        super(Net, self).__init__() \n",
    "        self.conv1 = nn.Conv2d(8, 8, 2) #input, output channels, kernel_size\n",
    "        self.conv2 = nn.Conv2d(8, 8, 3)\n",
    "        self.conv3 = nn.Conv2d(8, 8, 3)\n",
    "        self.conv4 = nn.Conv2d(8, 8, 3)\n",
    "        self.fc1 = nn.Linear(8, 64) \n",
    "        self.fc2 = nn.Linear(64, 1) \n",
    "\n",
    "    def forward(self, x):\n",
    "        x = self.conv1(x)\n",
    "        x = self.conv2(x)\n",
    "        x = self.conv3(x)\n",
    "        x = self.conv4(x)   \n",
    "        x = torch.reshape(x, (-1,)) # flattens into 1d tensor\n",
    "        x = self.fc1(F.relu(x))\n",
    "        x = self.fc2(torch.sigmoid(x))\n",
    "\n",
    "        return x"
   ]
  },
  {
   "cell_type": "code",
   "execution_count": 6,
   "metadata": {},
   "outputs": [],
   "source": [
    "net = Net()"
   ]
  },
  {
   "source": [
    "# TRAINING DATA"
   ],
   "cell_type": "markdown",
   "metadata": {}
  },
  {
   "cell_type": "code",
   "execution_count": 7,
   "metadata": {},
   "outputs": [],
   "source": [
    "optimizer = optim.Adam(net.parameters(), lr = 0.0009) #lr = 0.001\n",
    "criterion = nn.MSELoss() "
   ]
  },
  {
   "cell_type": "code",
   "execution_count": 8,
   "metadata": {},
   "outputs": [
    {
     "output_type": "stream",
     "name": "stdout",
     "text": [
      "[1,   200] loss: 116140.589\n",
      "[1,   400] loss: 98904.811\n",
      "[1,   600] loss: 91828.034\n",
      "[1,   800] loss: 85079.989\n",
      "[1,  1000] loss: 84613.862\n",
      "[1,  1200] loss: 94128.846\n",
      "[1,  1400] loss: 97845.507\n",
      "[1,  1600] loss: 97911.485\n",
      "[1,  1800] loss: 86998.213\n",
      "[2,   200] loss: 90453.227\n",
      "[2,   400] loss: 105959.197\n",
      "[2,   600] loss: 89171.011\n",
      "[2,   800] loss: 101076.283\n",
      "[2,  1000] loss: 97175.078\n",
      "[2,  1200] loss: 95202.558\n",
      "[2,  1400] loss: 90200.010\n",
      "[2,  1600] loss: 86068.592\n",
      "[2,  1800] loss: 92916.060\n",
      "[3,   200] loss: 86885.025\n",
      "[3,   400] loss: 109167.418\n",
      "[3,   600] loss: 86882.109\n",
      "[3,   800] loss: 88128.111\n",
      "[3,  1000] loss: 96024.440\n",
      "[3,  1200] loss: 115308.696\n",
      "[3,  1400] loss: 86357.849\n",
      "[3,  1600] loss: 92519.574\n",
      "[3,  1800] loss: 98740.458\n",
      "Finished Training\n"
     ]
    }
   ],
   "source": [
    "trainloader = DataLoader(dataset, batch_size=1,\n",
    "                        shuffle=True, num_workers=0)\n",
    "\n",
    "for epoch in range(3):  # loop over the dataset multiple times\n",
    "\n",
    "    running_loss = 0.0\n",
    "    for i, data in enumerate(trainloader):\n",
    "        # get the inputs; data is a list of [inputs, labels]\n",
    "        inputs = data['position'].reshape(1, 8, 8, 8).float()\n",
    "        labels = data['eval'].float()\n",
    "\n",
    "        # zero the parameter gradients\n",
    "        optimizer.zero_grad()\n",
    "\n",
    "        # forward + backward + optimize\n",
    "        outputs = net(inputs)\n",
    "        loss = criterion(outputs, labels)\n",
    "        loss.backward()\n",
    "        optimizer.step()\n",
    "\n",
    "        # print statistics\n",
    "        running_loss += loss.item()\n",
    "        if i % 200 == 199:    # print every 2000 mini-batches\n",
    "            print('[%d, %5d] loss: %.3f' %\n",
    "                  (epoch + 1, i + 1, running_loss / 2000))\n",
    "            running_loss = 0.0\n",
    "\n",
    "print('Finished Training')"
   ]
  }
 ]
}