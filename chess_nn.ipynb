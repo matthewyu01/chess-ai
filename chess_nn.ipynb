{
 "metadata": {
  "language_info": {
   "codemirror_mode": {
    "name": "ipython",
    "version": 3
   },
   "file_extension": ".py",
   "mimetype": "text/x-python",
   "name": "python",
   "nbconvert_exporter": "python",
   "pygments_lexer": "ipython3",
   "version": "3.9.1-final"
  },
  "orig_nbformat": 2,
  "kernelspec": {
   "name": "python3",
   "display_name": "Python 3.9.1 64-bit",
   "metadata": {
    "interpreter": {
     "hash": "f89e368b908d1a3af1a9cb902a14ad307df42a403bd95d8c2513650abfe81cff"
    }
   }
  }
 },
 "nbformat": 4,
 "nbformat_minor": 2,
 "cells": [
  {
   "cell_type": "code",
   "execution_count": 1,
   "metadata": {},
   "outputs": [],
   "source": [
    "import chess\n",
    "import chess.engine\n",
    "\n",
    "import numpy as np\n",
    "import pandas as pd\n",
    "import random\n",
    "\n",
    "import torch\n",
    "import torch.nn as nn\n",
    "import torch.nn.functional as F\n",
    "import torch.optim as optim\n",
    "from torch.utils.data import Dataset, DataLoader\n"
   ]
  },
  {
   "cell_type": "code",
   "execution_count": 2,
   "metadata": {},
   "outputs": [],
   "source": [
    "from gen_old import *"
   ]
  },
  {
   "cell_type": "code",
   "execution_count": 3,
   "metadata": {},
   "outputs": [],
   "source": [
    "class ChessDataset(Dataset):\n",
    "    \"\"\"Chess Positions Evaluation Dataset\"\"\"\n",
    "\n",
    "    def __init__(self, csv_file):\n",
    "        self.df = pd.read_csv(csv_file)\n",
    "    \n",
    "    def __len__(self):\n",
    "        return len(self.df)\n",
    "\n",
    "    def __getitem__(self, idx):\n",
    "        if torch.is_tensor(idx):\n",
    "            idx = idx.tolist()\n",
    "\n",
    "        position = np.array(self.df.iloc[idx, :-1])\n",
    "        eval_ = np.array(self.df.iloc[idx, -1]/100)\n",
    "        \n",
    "        sample = {'position': torch.from_numpy(position), 'eval': torch.from_numpy(eval_)}\n",
    "\n",
    "        return sample"
   ]
  },
  {
   "cell_type": "code",
   "execution_count": 4,
   "metadata": {},
   "outputs": [],
   "source": [
    "dataset = ChessDataset(csv_file='data/stockfish_depth0e.csv')"
   ]
  },
  {
   "cell_type": "code",
   "execution_count": 5,
   "metadata": {},
   "outputs": [],
   "source": [
    "class Net(nn.Module):\n",
    "\n",
    "    def __init__(self):\n",
    "        super(Net, self).__init__() \n",
    "        self.fc1 = nn.Linear(513, 64)\n",
    "        # self.conv1 = nn.Conv1d(64, 8, 3) #input, output channels, kernel_size\n",
    "        # self.conv2 = nn.Conv2d(8, 8, 3)\n",
    "        # self.conv3 = nn.Conv2d(8, 8, 3)\n",
    "        # self.conv4 = nn.Conv2d(8, 8, 3)\n",
    "        self.fc2 = nn.Linear(64, 32) \n",
    "        self.fc3 = nn.Linear(32,8)\n",
    "        self.fc4 = nn.Linear(8, 1) \n",
    "\n",
    "    def forward(self, x):\n",
    "        x = self.fc1(x)\n",
    "        # x = self.conv1(x)\n",
    "        # x = self.conv2(x)\n",
    "        # x = self.conv3(x)\n",
    "        # x = self.conv4(x)   \n",
    "        x = torch.reshape(x, (-1,)) # flattens into 1d tensor\n",
    "        x = self.fc2(x)\n",
    "        x = self.fc3(F.relu(x))\n",
    "        x = self.fc4(torch.sigmoid(x))\n",
    "        #x = self.fc1(x)\n",
    "        #x = self.fc2(x)\n",
    "\n",
    "        return x"
   ]
  },
  {
   "cell_type": "code",
   "execution_count": 6,
   "metadata": {},
   "outputs": [
    {
     "output_type": "execute_result",
     "data": {
      "text/plain": [
       "Net(\n",
       "  (fc1): Linear(in_features=513, out_features=64, bias=True)\n",
       "  (fc2): Linear(in_features=64, out_features=32, bias=True)\n",
       "  (fc3): Linear(in_features=32, out_features=8, bias=True)\n",
       "  (fc4): Linear(in_features=8, out_features=1, bias=True)\n",
       ")"
      ]
     },
     "metadata": {},
     "execution_count": 6
    }
   ],
   "source": [
    "if torch.cuda.is_available():\n",
    "    torch.cuda.set_device(0)\n",
    "\n",
    "net = Net()#.cuda()\n",
    "\n",
    "# Load model\n",
    "net.load_state_dict(torch.load('chess_ai0.pt'))\n",
    "net.eval()"
   ]
  },
  {
   "cell_type": "code",
   "execution_count": 5,
   "metadata": {},
   "outputs": [
    {
     "output_type": "execute_result",
     "data": {
      "text/plain": [
       "0"
      ]
     },
     "metadata": {},
     "execution_count": 5
    }
   ],
   "source": [
    "t = torch.tensor([[1., -1.], [1., -1.]])\n",
    "t = t.cuda()\n",
    "t.get_device()"
   ]
  },
  {
   "source": [
    "# TRAINING DATA"
   ],
   "cell_type": "markdown",
   "metadata": {}
  },
  {
   "cell_type": "code",
   "execution_count": null,
   "metadata": {},
   "outputs": [],
   "source": [
    "#torch.cuda.get_device_name(device)"
   ]
  },
  {
   "cell_type": "code",
   "execution_count": null,
   "metadata": {},
   "outputs": [],
   "source": [
    "trainloader = DataLoader(dataset, batch_size=1,\n",
    "                        shuffle=True, num_workers=0) \n",
    "#num_workers = 0 doesn't use GPU. GPU seems to be a lot slower than CPU,.\n",
    "#data set is prob too big or my laptop nvidia GPU is just trash\n",
    "\n",
    "optimizer = optim.Adam(net.parameters(), lr = 0.0009) #lr = 0.001\n",
    "criterion = nn.MSELoss() \n",
    "\n",
    "for epoch in range(3):  # loop over the dataset multiple times\n",
    "\n",
    "    running_loss = 0.0\n",
    "    for i, data in enumerate(trainloader):\n",
    "        # get the inputs; data is a list of [inputs, labels]\n",
    "        inputs = data['position'].reshape(1, 513).float()#.cuda()\n",
    "        labels = data['eval'].float()#.cuda()\n",
    "\n",
    "        # zero the parameter gradients\n",
    "        optimizer.zero_grad()\n",
    "\n",
    "        # forward + backward + optimize\n",
    "        outputs = net(inputs)\n",
    "        loss = criterion(outputs, labels)\n",
    "        loss.backward()\n",
    "        optimizer.step()\n",
    "\n",
    "        # print statistics\n",
    "        running_loss += loss.item()\n",
    "        if i % 400 == 399:    # print every 2000 mini-batches\n",
    "            print('[%d, %5d] loss: %.3f' %\n",
    "                  (epoch + 1, i + 1, running_loss / 400))\n",
    "            running_loss = 0.0\n",
    "\n",
    "print('Finished Training')"
   ]
  },
  {
   "cell_type": "code",
   "execution_count": 7,
   "metadata": {},
   "outputs": [],
   "source": [
    "def compare_eval():\n",
    "    board = generate_rand_board()\n",
    "    #print(convert_board(board))\n",
    "    torch_board = torch.from_numpy(convert_board(board).reshape(1, 513)).float()\n",
    "    net_eval = net(torch_board)\n",
    "    sf_eval = stockfish_evaluation(board)\n",
    "    print(f\"NN: {net_eval} Stockfish: {sf_eval/100}\")\n",
    "    "
   ]
  },
  {
   "cell_type": "code",
   "execution_count": 8,
   "metadata": {},
   "outputs": [
    {
     "output_type": "stream",
     "name": "stdout",
     "text": [
      "NN: tensor([5.1656], grad_fn=<AddBackward0>) Stockfish: 6.4\nNN: tensor([5.8066], grad_fn=<AddBackward0>) Stockfish: 0.26\nNN: tensor([5.7132], grad_fn=<AddBackward0>) Stockfish: 0.51\nNN: tensor([3.3727], grad_fn=<AddBackward0>) Stockfish: -7.17\nNN: tensor([-7.9268], grad_fn=<AddBackward0>) Stockfish: 3.53\n"
     ]
    }
   ],
   "source": [
    "for _ in range(5):\n",
    "    compare_eval()"
   ]
  },
  {
   "source": [
    "# Choosing Best Move with Minimax"
   ],
   "cell_type": "code",
   "metadata": {},
   "execution_count": 9,
   "outputs": []
  },
  {
   "cell_type": "code",
   "execution_count": 10,
   "metadata": {},
   "outputs": [],
   "source": [
    "def nn_prediction(position: chess.Board):\n",
    "    board_rep = convert_board(position)\n",
    "    torch_board = torch.from_numpy(board_rep.reshape(1, 513)).float()\n",
    "    return net(torch_board)\n"
   ]
  },
  {
   "cell_type": "code",
   "execution_count": 35,
   "metadata": {},
   "outputs": [],
   "source": [
    "# Minimax implementation \n",
    "def minimax(position, depth, maximizingPlayer, alpha = -1e9, beta = 1e9):\n",
    "    #print(depth)\n",
    "    if depth == 0 or position.is_game_over():\n",
    "        return nn_prediction(position)\n",
    "        \n",
    "    if maximizingPlayer:\n",
    "        value = -np.Inf\n",
    "        for move in position.legal_moves:\n",
    "            position.push(move)\n",
    "            value = max(value, minimax(position, depth-1, False, alpha, beta))\n",
    "            position.pop()\n",
    "            alpha = max(alpha, value)\n",
    "            if beta <= alpha:\n",
    "                break\n",
    "        return value\n",
    "    else:\n",
    "        value = np.Inf\n",
    "        for move in position.legal_moves:\n",
    "            position.push(move)\n",
    "            value = min(value, minimax(position, depth-1, True, alpha, beta))\n",
    "            position.pop()\n",
    "            beta = min(beta, value)\n",
    "            if beta <= alpha:\n",
    "                break\n",
    "        return value"
   ]
  },
  {
   "cell_type": "code",
   "execution_count": 41,
   "metadata": {},
   "outputs": [],
   "source": [
    "def find_best_move(position, depth):\n",
    "    \n",
    "  best_evaluation = -np.Inf\n",
    "\n",
    "  for move in position.legal_moves:\n",
    "    position.push(move)\n",
    "    nn_eval = minimax(position, depth - 1, False, -np.Inf, np.Inf)\n",
    "    position.pop()\n",
    "    \n",
    "    if nn_eval > best_evaluation:\n",
    "      best_evaluation = nn_eval\n",
    "      best_move = move\n",
    "  \n",
    "  return best_move"
   ]
  },
  {
   "cell_type": "code",
   "execution_count": 43,
   "metadata": {},
   "outputs": [],
   "source": [
    "def play_game():\n",
    "    board = chess.Board()\n",
    "    board.push_san(\"e4\")\n",
    "    board.push_san(\"e5\")    \n",
    "    while not board.is_game_over():   \n",
    "        nn_move = find_best_move(board,4) \n",
    "        \n",
    "        board.push(nn_move)\n",
    "        print(board)\n",
    "        print(nn_move)\n",
    "        moved = False\n",
    "        while not moved:\n",
    "            try:\n",
    "                sqr = input('your move')\n",
    "                if sqr == 'q' or sqr == 'quit':\n",
    "                    return\n",
    "                first_letter = sqr[0]\n",
    "                if first_letter == 'n' or first_letter == 'b'\n",
    "                or first_letter == 'r'1. e4 e5 2. Qh5 Nc6 3. d4 Nf6 4. Qh4 Nxd4\n",
    "5. c3 Nc2+ 6. Kd1 Nxa1 7. Nf3 Be7 8. Bc4 d5\n",
    "9. exd5 Nxd5 10. Bb5+ c6 11. Bxc6+ bxc6 12. Qg3 Nxc3+\n",
    "13. Ke1 Qd1#\n",
    "                or first_letter == 'q'\n",
    "                or first_letter == 'k' :\n",
    "                    sqr = first_letter.upper() + sqr[1:]\n",
    "                board.push_san(sqr)\n",
    "                moved = True\n",
    "            except:\n",
    "                moved = False\n"
   ]
  },
  {
   "cell_type": "code",
   "execution_count": 44,
   "metadata": {
    "tags": []
   },
   "outputs": [
    {
     "output_type": "stream",
     "name": "stdout",
     "text": [
      "r n b q k b n r\n",
      "p p p p . p p p\n",
      ". . . . . . . .\n",
      ". . . . p . . Q\n",
      ". . . . P . . .\n",
      ". . . . . . . .\n",
      "P P P P . P P P\n",
      "R N B . K B N R\n",
      "d1h5\n",
      "r . b q k b n r\n",
      "p p p p . p p p\n",
      ". . n . . . . .\n",
      ". . . . p . . Q\n",
      ". . . P P . . .\n",
      ". . . . . . . .\n",
      "P P P . . P P P\n",
      "R N B . K B N R\n",
      "d2d4\n",
      "r . b q k b . r\n",
      "p p p p . p p p\n",
      ". . n . . n . .\n",
      ". . . . p . . .\n",
      ". . . P P . . Q\n",
      ". . . . . . . .\n",
      "P P P . . P P P\n",
      "R N B . K B N R\n",
      "h5h4\n",
      "r . b q k b . r\n",
      "p p p p . p p p\n",
      ". . . . . n . .\n",
      ". . . . p . . .\n",
      ". . . n P . . Q\n",
      ". . P . . . . .\n",
      "P P . . . P P P\n",
      "R N B . K B N R\n",
      "c2c3\n",
      "r . b q k b . r\n",
      "p p p p . p p p\n",
      ". . . . . n . .\n",
      ". . . . p . . .\n",
      ". . . . P . . Q\n",
      ". . P . . . . .\n",
      "P P n . . P P P\n",
      "R N B K . B N R\n",
      "e1d1\n",
      "r . b q k b . r\n",
      "p p p p . p p p\n",
      ". . . . . n . .\n",
      ". . . . p . . .\n",
      ". . . . P . . Q\n",
      ". . P . . N . .\n",
      "P P . . . P P P\n",
      "n N B K . B . R\n",
      "g1f3\n",
      "r . b q k . . r\n",
      "p p p p b p p p\n",
      ". . . . . n . .\n",
      ". . . . p . . .\n",
      ". . B . P . . Q\n",
      ". . P . . N . .\n",
      "P P . . . P P P\n",
      "n N B K . . . R\n",
      "f1c4\n",
      "r . b q k . . r\n",
      "p p p . b p p p\n",
      ". . . . . n . .\n",
      ". . . P p . . .\n",
      ". . B . . . . Q\n",
      ". . P . . N . .\n",
      "P P . . . P P P\n",
      "n N B K . . . R\n",
      "e4d5\n",
      "r . b q k . . r\n",
      "p p p . b p p p\n",
      ". . . . . . . .\n",
      ". B . n p . . .\n",
      ". . . . . . . Q\n",
      ". . P . . N . .\n",
      "P P . . . P P P\n",
      "n N B K . . . R\n",
      "c4b5\n",
      "r . b q k . . r\n",
      "p p . . b p p p\n",
      ". . B . . . . .\n",
      ". . . n p . . .\n",
      ". . . . . . . Q\n",
      ". . P . . N . .\n",
      "P P . . . P P P\n",
      "n N B K . . . R\n",
      "b5c6\n",
      "r . b q k . . r\n",
      "p . . . b p p p\n",
      ". . p . . . . .\n",
      ". . . n p . . .\n",
      ". . . . . . . .\n",
      ". . P . . N Q .\n",
      "P P . . . P P P\n",
      "n N B K . . . R\n",
      "h4g3\n",
      "r . b q k . . r\n",
      "p . . . b p p p\n",
      ". . p . . . . .\n",
      ". . . . p . . .\n",
      ". . . . . . . .\n",
      ". . n . . N Q .\n",
      "P P . . . P P P\n",
      "n N B . K . . R\n",
      "d1e1\n"
     ]
    }
   ],
   "source": [
    "play_game()"
   ]
  },
  {
   "cell_type": "code",
   "execution_count": null,
   "metadata": {},
   "outputs": [],
   "source": [
    "# memoization ? transposition of positions"
   ]
  }
 ]
}