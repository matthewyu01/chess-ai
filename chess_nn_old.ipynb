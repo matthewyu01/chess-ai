{
 "metadata": {
  "language_info": {
   "codemirror_mode": {
    "name": "ipython",
    "version": 3
   },
   "file_extension": ".py",
   "mimetype": "text/x-python",
   "name": "python",
   "nbconvert_exporter": "python",
   "pygments_lexer": "ipython3",
   "version": "3.9.1-final"
  },
  "orig_nbformat": 2,
  "kernelspec": {
   "name": "python3",
   "display_name": "Python 3.9.1 64-bit",
   "metadata": {
    "interpreter": {
     "hash": "f89e368b908d1a3af1a9cb902a14ad307df42a403bd95d8c2513650abfe81cff"
    }
   }
  }
 },
 "nbformat": 4,
 "nbformat_minor": 2,
 "cells": [
  {
   "cell_type": "code",
   "execution_count": 1,
   "metadata": {},
   "outputs": [],
   "source": [
    "import chess\n",
    "import chess.engine\n",
    "\n",
    "import numpy as np\n",
    "import pandas as pd\n",
    "import random\n",
    "\n",
    "import torch\n",
    "import torch.nn as nn\n",
    "import torch.nn.functional as F\n",
    "import torch.optim as optim\n",
    "from torch.utils.data import Dataset, DataLoader\n"
   ]
  },
  {
   "cell_type": "code",
   "execution_count": 2,
   "metadata": {},
   "outputs": [],
   "source": [
    "from generate_data import *"
   ]
  },
  {
   "cell_type": "code",
   "execution_count": 3,
   "metadata": {},
   "outputs": [],
   "source": [
    "class ChessDataset(Dataset):\n",
    "    \"\"\"Chess Positions Evaluation Dataset\"\"\"\n",
    "\n",
    "    def __init__(self, csv_file):\n",
    "        self.df = pd.read_csv(csv_file)\n",
    "    \n",
    "    def __len__(self):\n",
    "        return len(self.df)\n",
    "\n",
    "    def __getitem__(self, idx):\n",
    "        if torch.is_tensor(idx):\n",
    "            idx = idx.tolist()\n",
    "\n",
    "        position = np.array(self.df.iloc[idx, :-1])\n",
    "        eval_ = np.array(self.df.iloc[idx, -1]/100)\n",
    "        \n",
    "        sample = {'position': torch.from_numpy(position), 'eval': torch.from_numpy(eval_)}\n",
    "\n",
    "        return sample"
   ]
  },
  {
   "cell_type": "code",
   "execution_count": 4,
   "metadata": {},
   "outputs": [],
   "source": [
    "dataset = ChessDataset(csv_file='data/stockfish_depth0e.csv')"
   ]
  },
  {
   "cell_type": "code",
   "execution_count": 5,
   "metadata": {},
   "outputs": [],
   "source": [
    "class Net(nn.Module):\n",
    "\n",
    "    def __init__(self):\n",
    "        super(Net, self).__init__() \n",
    "        self.conv1 = nn.Conv2d(8, 8, 2) #input, output channels, kernel_size\n",
    "        self.conv2 = nn.Conv2d(8, 8, 3)\n",
    "        self.conv3 = nn.Conv2d(8, 8, 3)\n",
    "        self.conv4 = nn.Conv2d(8, 8, 3)\n",
    "        self.fc1 = nn.Linear(8, 64) \n",
    "        self.fc2 = nn.Linear(64, 1) \n",
    "\n",
    "    def forward(self, x):\n",
    "        x = self.conv1(x)\n",
    "        x = self.conv2(x)\n",
    "        x = self.conv3(x)\n",
    "        x = self.conv4(x)   \n",
    "        x = torch.reshape(x, (-1,)) # flattens into 1d tensor\n",
    "        x = self.fc1(F.relu(x))\n",
    "        x = self.fc2(torch.sigmoid(x))\n",
    "        #x = self.fc1(x)\n",
    "        #x = self.fc2(x)\n",
    "\n",
    "        return x"
   ]
  },
  {
   "cell_type": "code",
   "execution_count": 6,
   "metadata": {},
   "outputs": [],
   "source": [
    "if torch.cuda.is_available():\n",
    "    torch.cuda.set_device(0)\n",
    "\n",
    "net = Net()#.cuda()"
   ]
  },
  {
   "cell_type": "code",
   "execution_count": 7,
   "metadata": {},
   "outputs": [
    {
     "output_type": "execute_result",
     "data": {
      "text/plain": [
       "0"
      ]
     },
     "metadata": {},
     "execution_count": 7
    }
   ],
   "source": [
    "t = torch.tensor([[1., -1.], [1., -1.]])\n",
    "t = t.cuda()\n",
    "t.get_device()"
   ]
  },
  {
   "source": [
    "# TRAINING DATA"
   ],
   "cell_type": "markdown",
   "metadata": {}
  },
  {
   "cell_type": "code",
   "execution_count": 8,
   "metadata": {},
   "outputs": [],
   "source": [
    "#torch.cuda.get_device_name(device)"
   ]
  },
  {
   "cell_type": "code",
   "execution_count": 9,
   "metadata": {},
   "outputs": [
    {
     "output_type": "error",
     "ename": "RuntimeError",
     "evalue": "shape '[1, 8, 8, 8]' is invalid for input of size 513",
     "traceback": [
      "\u001b[1;31m---------------------------------------------------------------------------\u001b[0m",
      "\u001b[1;31mRuntimeError\u001b[0m                              Traceback (most recent call last)",
      "\u001b[1;32m<ipython-input-9-0055f7b7491b>\u001b[0m in \u001b[0;36m<module>\u001b[1;34m\u001b[0m\n\u001b[0;32m     12\u001b[0m     \u001b[1;32mfor\u001b[0m \u001b[0mi\u001b[0m\u001b[1;33m,\u001b[0m \u001b[0mdata\u001b[0m \u001b[1;32min\u001b[0m \u001b[0menumerate\u001b[0m\u001b[1;33m(\u001b[0m\u001b[0mtrainloader\u001b[0m\u001b[1;33m)\u001b[0m\u001b[1;33m:\u001b[0m\u001b[1;33m\u001b[0m\u001b[1;33m\u001b[0m\u001b[0m\n\u001b[0;32m     13\u001b[0m         \u001b[1;31m# get the inputs; data is a list of [inputs, labels]\u001b[0m\u001b[1;33m\u001b[0m\u001b[1;33m\u001b[0m\u001b[1;33m\u001b[0m\u001b[0m\n\u001b[1;32m---> 14\u001b[1;33m         \u001b[0minputs\u001b[0m \u001b[1;33m=\u001b[0m \u001b[0mdata\u001b[0m\u001b[1;33m[\u001b[0m\u001b[1;34m'position'\u001b[0m\u001b[1;33m]\u001b[0m\u001b[1;33m.\u001b[0m\u001b[0mreshape\u001b[0m\u001b[1;33m(\u001b[0m\u001b[1;36m1\u001b[0m\u001b[1;33m,\u001b[0m \u001b[1;36m8\u001b[0m\u001b[1;33m,\u001b[0m \u001b[1;36m8\u001b[0m\u001b[1;33m,\u001b[0m \u001b[1;36m8\u001b[0m\u001b[1;33m)\u001b[0m\u001b[1;33m.\u001b[0m\u001b[0mfloat\u001b[0m\u001b[1;33m(\u001b[0m\u001b[1;33m)\u001b[0m\u001b[1;31m#.cuda()\u001b[0m\u001b[1;33m\u001b[0m\u001b[1;33m\u001b[0m\u001b[0m\n\u001b[0m\u001b[0;32m     15\u001b[0m         \u001b[0mlabels\u001b[0m \u001b[1;33m=\u001b[0m \u001b[0mdata\u001b[0m\u001b[1;33m[\u001b[0m\u001b[1;34m'eval'\u001b[0m\u001b[1;33m]\u001b[0m\u001b[1;33m.\u001b[0m\u001b[0mfloat\u001b[0m\u001b[1;33m(\u001b[0m\u001b[1;33m)\u001b[0m\u001b[1;31m#.cuda()\u001b[0m\u001b[1;33m\u001b[0m\u001b[1;33m\u001b[0m\u001b[0m\n\u001b[0;32m     16\u001b[0m \u001b[1;33m\u001b[0m\u001b[0m\n",
      "\u001b[1;31mRuntimeError\u001b[0m: shape '[1, 8, 8, 8]' is invalid for input of size 513"
     ]
    }
   ],
   "source": [
    "trainloader = DataLoader(dataset, batch_size=1,\n",
    "                        shuffle=True, num_workers=0) \n",
    "#num_workers = 0 doesn't use GPU. GPU seems to be a lot slower than CPU,.\n",
    "#data set is prob too big or my laptop nvidia GPU is just trash\n",
    "\n",
    "optimizer = optim.Adam(net.parameters(), lr = 0.0009) #lr = 0.001\n",
    "criterion = nn.MSELoss() \n",
    "\n",
    "for epoch in range(3):  # loop over the dataset multiple times\n",
    "\n",
    "    running_loss = 0.0\n",
    "    for i, data in enumerate(trainloader):\n",
    "        # get the inputs; data is a list of [inputs, labels]\n",
    "        inputs = data['position'].reshape(1, 8, 8, 8).float()#.cuda()\n",
    "        labels = data['eval'].float()#.cuda()\n",
    "\n",
    "        # zero the parameter gradients\n",
    "        optimizer.zero_grad()\n",
    "\n",
    "        # forward + backward + optimize\n",
    "        outputs = net(inputs)\n",
    "        loss = criterion(outputs, labels)\n",
    "        loss.backward()\n",
    "        optimizer.step()\n",
    "\n",
    "        # print statistics\n",
    "        running_loss += loss.item()\n",
    "        if i % 400 == 399:    # print every 2000 mini-batches\n",
    "            print('[%d, %5d] loss: %.3f' %\n",
    "                  (epoch + 1, i + 1, running_loss / 400))\n",
    "            running_loss = 0.0\n",
    "\n",
    "print('Finished Training')"
   ]
  },
  {
   "cell_type": "code",
   "execution_count": 10,
   "metadata": {},
   "outputs": [],
   "source": [
    "def compare_eval():\n",
    "    board = generate_rand_board()\n",
    "    torch_board = torch.from_numpy(convert_board(board).reshape(1, 8, 8, 8)).float()\n",
    "    net_eval = net(torch_board)\n",
    "    sf_eval = stockfish_evaluation(board)\n",
    "    print(f\"NN: {net_eval} Stockfish: {sf_eval/100}\")\n",
    "    "
   ]
  },
  {
   "cell_type": "code",
   "execution_count": 11,
   "metadata": {},
   "outputs": [
    {
     "output_type": "stream",
     "name": "stdout",
     "text": [
      "NN: tensor([0.5485], grad_fn=<AddBackward0>) Stockfish: -1.84\nNN: tensor([8.6144], grad_fn=<AddBackward0>) Stockfish: 2.63\nNN: tensor([-0.1055], grad_fn=<AddBackward0>) Stockfish: 1.0\nNN: tensor([7.3383], grad_fn=<AddBackward0>) Stockfish: 2.37\nNN: tensor([4.6139], grad_fn=<AddBackward0>) Stockfish: 1.94\n"
     ]
    }
   ],
   "source": [
    "for _ in range(5):\n",
    "    compare_eval()"
   ]
  },
  {
   "source": [
    "# Choosing Best Move with Minimax"
   ],
   "cell_type": "code",
   "metadata": {},
   "execution_count": 12,
   "outputs": []
  },
  {
   "cell_type": "code",
   "execution_count": 13,
   "metadata": {},
   "outputs": [],
   "source": [
    "def nn_prediction(position: chess.Board):\n",
    "    board_rep = convert_board(position)\n",
    "    torch_board = torch.from_numpy(convert_board(board).reshape(1, 8, 8, 8)).float()\n",
    "    return net(torch_board)\n"
   ]
  },
  {
   "cell_type": "code",
   "execution_count": 14,
   "metadata": {},
   "outputs": [],
   "source": [
    "def find_best_move(position: chess.Board, depth: int = 0):\n",
    "    best_evaluation = -1000\n",
    "    \n",
    "    for move in position.legal_moves:\n",
    "        position.push(move)\n",
    "        if position.turn == chess.WHITE:\n",
    "            value = minimax(position, True, depth - 1) \n",
    "        else:\n",
    "            value = minimax(position, False, depth - 1) \n",
    "        position.pop()\n",
    "        if value > best_evaluation:\n",
    "            best_evaluation = value\n",
    "            best_move = move\n",
    "    return best_move\n",
    "\n",
    "        \n",
    "\n",
    "def minimax(position: chess.Board, maximizing_player, depth: int = 5): # alpha: int = -1e9, beta: int = 1e9 \n",
    "    \"\"\"\n",
    "    Minimax with alpha-beta pruning to save time\n",
    "    \"\"\"\n",
    "    #just used minimax from connectx kaggle agent\n",
    "\n",
    "    alpha = -1000 #could be -np.Inf\n",
    "    beta = 1000\n",
    "    if depth == 0:\n",
    "        return nn_prediction(position)\n",
    "\n",
    "    if maximizing_player:\n",
    "        value = -np.Inf\n",
    "        for move in position.legal_moves:\n",
    "            position.push(move)\n",
    "            value = max(value, minimax(position, False, depth - 1))\n",
    "            position.pop()\n",
    "            alpha = max(alpha, value)\n",
    "            if beta <= alpha:\n",
    "                break\n",
    "        return value\n",
    "\n",
    "    else:\n",
    "        value = np.Inf\n",
    "        for move in position.legal_moves:\n",
    "            position.push(move)\n",
    "            value = min(value, minimax(position, True, depth - 1))\n",
    "            position.pop()\n",
    "            beta = min(beta, value)\n",
    "            if beta <= alpha:\n",
    "                break\n",
    "        return value"
   ]
  },
  {
   "cell_type": "code",
   "execution_count": null,
   "metadata": {},
   "outputs": [],
   "source": [
    "#MIGHT NEED TO TAKE INTO ACCOUNT WHOSE TURN IN DATA...\n",
    "find_best_move(chess.Board())"
   ]
  }
 ]
}