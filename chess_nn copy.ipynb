{
 "metadata": {
  "language_info": {
   "codemirror_mode": {
    "name": "ipython",
    "version": 3
   },
   "file_extension": ".py",
   "mimetype": "text/x-python",
   "name": "python",
   "nbconvert_exporter": "python",
   "pygments_lexer": "ipython3",
   "version": "3.9.1-final"
  },
  "orig_nbformat": 2,
  "kernelspec": {
   "name": "python3",
   "display_name": "Python 3.9.1 64-bit",
   "metadata": {
    "interpreter": {
     "hash": "f89e368b908d1a3af1a9cb902a14ad307df42a403bd95d8c2513650abfe81cff"
    }
   }
  }
 },
 "nbformat": 4,
 "nbformat_minor": 2,
 "cells": [
  {
   "cell_type": "code",
   "execution_count": 1,
   "metadata": {},
   "outputs": [],
   "source": [
    "import chess\n",
    "import chess.engine\n",
    "\n",
    "import numpy as np\n",
    "import pandas as pd\n",
    "import random\n",
    "\n",
    "import torch\n",
    "import torch.nn as nn\n",
    "import torch.nn.functional as F\n",
    "import torch.optim as optim\n",
    "from torch.utils.data import Dataset, DataLoader\n"
   ]
  },
  {
   "cell_type": "code",
   "execution_count": 2,
   "metadata": {},
   "outputs": [],
   "source": [
    "from generate_data import *"
   ]
  },
  {
   "cell_type": "code",
   "execution_count": 3,
   "metadata": {},
   "outputs": [],
   "source": [
    "class ChessDataset(Dataset):\n",
    "    \"\"\"Chess Positions Evaluation Dataset\"\"\"\n",
    "\n",
    "    def __init__(self, csv_file):\n",
    "        self.df = pd.read_csv(csv_file)\n",
    "    \n",
    "    def __len__(self):\n",
    "        return len(self.df)\n",
    "\n",
    "    def __getitem__(self, idx):\n",
    "        if torch.is_tensor(idx):\n",
    "            idx = idx.tolist()\n",
    "\n",
    "        position = np.array(self.df.iloc[idx, :-1])\n",
    "        eval_ = np.array(self.df.iloc[idx, -1]/100)\n",
    "        \n",
    "        sample = {'position': torch.from_numpy(position), 'eval': torch.from_numpy(eval_)}\n",
    "\n",
    "        return sample"
   ]
  },
  {
   "cell_type": "code",
   "execution_count": 4,
   "metadata": {},
   "outputs": [],
   "source": [
    "dataset = ChessDataset(csv_file='data/stockfish_depth0e.csv')"
   ]
  },
  {
   "cell_type": "code",
   "execution_count": 5,
   "metadata": {},
   "outputs": [],
   "source": [
    "class Net(nn.Module):\n",
    "\n",
    "    def __init__(self):\n",
    "        super(Net, self).__init__() \n",
    "        self.fc1 = nn.Linear(513, 64)\n",
    "        # self.conv1 = nn.Conv1d(64, 8, 3) #input, output channels, kernel_size\n",
    "        # self.conv2 = nn.Conv2d(8, 8, 3)\n",
    "        # self.conv3 = nn.Conv2d(8, 8, 3)\n",
    "        # self.conv4 = nn.Conv2d(8, 8, 3)\n",
    "        self.fc2 = nn.Linear(64, 32) \n",
    "        self.fc3 = nn.Linear(32,8)\n",
    "        self.fc4 = nn.Linear(8, 1) \n",
    "\n",
    "    def forward(self, x):\n",
    "        x = self.fc1(x)\n",
    "        # x = self.conv1(x)\n",
    "        # x = self.conv2(x)\n",
    "        # x = self.conv3(x)\n",
    "        # x = self.conv4(x)   \n",
    "        x = torch.reshape(x, (-1,)) # flattens into 1d tensor\n",
    "        x = self.fc2(x)\n",
    "        x = self.fc3(F.relu(x))\n",
    "        x = self.fc4(torch.sigmoid(x))\n",
    "        #x = self.fc1(x)\n",
    "        #x = self.fc2(x)\n",
    "\n",
    "        return x"
   ]
  },
  {
   "cell_type": "code",
   "execution_count": 6,
   "metadata": {},
   "outputs": [],
   "source": [
    "if torch.cuda.is_available():\n",
    "    torch.cuda.set_device(0)\n",
    "\n",
    "net = Net()#.cuda()"
   ]
  },
  {
   "cell_type": "code",
   "execution_count": 7,
   "metadata": {},
   "outputs": [
    {
     "output_type": "execute_result",
     "data": {
      "text/plain": [
       "0"
      ]
     },
     "metadata": {},
     "execution_count": 7
    }
   ],
   "source": [
    "t = torch.tensor([[1., -1.], [1., -1.]])\n",
    "t = t.cuda()\n",
    "t.get_device()"
   ]
  },
  {
   "source": [
    "# TRAINING DATA"
   ],
   "cell_type": "markdown",
   "metadata": {}
  },
  {
   "cell_type": "code",
   "execution_count": 8,
   "metadata": {},
   "outputs": [],
   "source": [
    "#torch.cuda.get_device_name(device)"
   ]
  },
  {
   "cell_type": "code",
   "execution_count": 9,
   "metadata": {},
   "outputs": [
    {
     "output_type": "stream",
     "name": "stdout",
     "text": [
      "[1,   400] loss: 85.990\n",
      "[1,   800] loss: 85.381\n",
      "[1,  1200] loss: 84.308\n",
      "[1,  1600] loss: 75.546\n",
      "[1,  2000] loss: 80.239\n",
      "[1,  2400] loss: 80.691\n",
      "[1,  2800] loss: 73.755\n",
      "[1,  3200] loss: 76.299\n",
      "[1,  3600] loss: 66.727\n",
      "[1,  4000] loss: 70.641\n",
      "[1,  4400] loss: 67.789\n",
      "[1,  4800] loss: 63.940\n",
      "[1,  5200] loss: 68.291\n",
      "[1,  5600] loss: 63.618\n",
      "[1,  6000] loss: 63.015\n",
      "[1,  6400] loss: 64.562\n",
      "[1,  6800] loss: 60.853\n",
      "[1,  7200] loss: 63.819\n",
      "[1,  7600] loss: 62.458\n",
      "[1,  8000] loss: 50.339\n",
      "[1,  8400] loss: 55.391\n",
      "[1,  8800] loss: 59.422\n",
      "[1,  9200] loss: 51.539\n",
      "[1,  9600] loss: 50.754\n",
      "[1, 10000] loss: 43.774\n",
      "[1, 10400] loss: 50.894\n",
      "[1, 10800] loss: 50.856\n",
      "[1, 11200] loss: 47.482\n",
      "[1, 11600] loss: 49.281\n",
      "[1, 12000] loss: 47.288\n",
      "[1, 12400] loss: 50.070\n",
      "[1, 12800] loss: 52.276\n",
      "[1, 13200] loss: 42.666\n",
      "[1, 13600] loss: 32.977\n",
      "[1, 14000] loss: 52.046\n",
      "[1, 14400] loss: 45.100\n",
      "[1, 14800] loss: 45.705\n",
      "[1, 15200] loss: 42.867\n",
      "[1, 15600] loss: 43.828\n",
      "[2,   400] loss: 35.795\n",
      "[2,   800] loss: 41.602\n",
      "[2,  1200] loss: 36.362\n",
      "[2,  1600] loss: 46.549\n",
      "[2,  2000] loss: 38.832\n",
      "[2,  2400] loss: 42.499\n",
      "[2,  2800] loss: 37.360\n",
      "[2,  3200] loss: 40.455\n",
      "[2,  3600] loss: 40.105\n",
      "[2,  4000] loss: 35.322\n",
      "[2,  4400] loss: 35.857\n",
      "[2,  4800] loss: 36.282\n",
      "[2,  5200] loss: 38.753\n",
      "[2,  5600] loss: 35.492\n",
      "[2,  6000] loss: 41.940\n",
      "[2,  6400] loss: 35.756\n",
      "[2,  6800] loss: 39.584\n",
      "[2,  7200] loss: 32.871\n",
      "[2,  7600] loss: 32.781\n",
      "[2,  8000] loss: 38.875\n",
      "[2,  8400] loss: 37.728\n",
      "[2,  8800] loss: 33.083\n",
      "[2,  9200] loss: 34.607\n",
      "[2,  9600] loss: 33.473\n",
      "[2, 10000] loss: 37.156\n",
      "[2, 10400] loss: 37.145\n",
      "[2, 10800] loss: 44.185\n",
      "[2, 11200] loss: 39.351\n",
      "[2, 11600] loss: 42.626\n",
      "[2, 12000] loss: 39.170\n",
      "[2, 12400] loss: 34.661\n",
      "[2, 12800] loss: 37.228\n",
      "[2, 13200] loss: 32.728\n",
      "[2, 13600] loss: 32.389\n",
      "[2, 14000] loss: 40.253\n",
      "[2, 14400] loss: 30.698\n",
      "[2, 14800] loss: 35.092\n",
      "[2, 15200] loss: 34.522\n",
      "[2, 15600] loss: 32.071\n",
      "[3,   400] loss: 35.550\n",
      "[3,   800] loss: 33.360\n",
      "[3,  1200] loss: 32.118\n",
      "[3,  1600] loss: 39.012\n",
      "[3,  2000] loss: 31.831\n",
      "[3,  2400] loss: 34.214\n",
      "[3,  2800] loss: 31.920\n",
      "[3,  3200] loss: 35.338\n",
      "[3,  3600] loss: 28.375\n",
      "[3,  4000] loss: 29.290\n",
      "[3,  4400] loss: 29.085\n",
      "[3,  4800] loss: 30.501\n",
      "[3,  5200] loss: 30.067\n",
      "[3,  5600] loss: 30.717\n",
      "[3,  6000] loss: 40.397\n",
      "[3,  6400] loss: 31.514\n",
      "[3,  6800] loss: 31.465\n",
      "[3,  7200] loss: 42.012\n",
      "[3,  7600] loss: 31.239\n",
      "[3,  8000] loss: 35.386\n",
      "[3,  8400] loss: 30.702\n",
      "[3,  8800] loss: 36.406\n",
      "[3,  9200] loss: 33.486\n",
      "[3,  9600] loss: 31.942\n",
      "[3, 10000] loss: 29.844\n",
      "[3, 10400] loss: 36.113\n",
      "[3, 10800] loss: 28.814\n",
      "[3, 11200] loss: 34.842\n",
      "[3, 11600] loss: 29.270\n",
      "[3, 12000] loss: 27.484\n",
      "[3, 12400] loss: 33.638\n",
      "[3, 12800] loss: 33.587\n",
      "[3, 13200] loss: 36.782\n",
      "[3, 13600] loss: 32.950\n",
      "[3, 14000] loss: 31.269\n",
      "[3, 14400] loss: 31.650\n",
      "[3, 14800] loss: 31.772\n",
      "[3, 15200] loss: 29.611\n",
      "[3, 15600] loss: 36.989\n",
      "Finished Training\n"
     ]
    }
   ],
   "source": [
    "trainloader = DataLoader(dataset, batch_size=1,\n",
    "                        shuffle=True, num_workers=0) \n",
    "#num_workers = 0 doesn't use GPU. GPU seems to be a lot slower than CPU,.\n",
    "#data set is prob too big or my laptop nvidia GPU is just trash\n",
    "\n",
    "optimizer = optim.Adam(net.parameters(), lr = 0.0009) #lr = 0.001\n",
    "criterion = nn.MSELoss() \n",
    "\n",
    "for epoch in range(3):  # loop over the dataset multiple times\n",
    "\n",
    "    running_loss = 0.0\n",
    "    for i, data in enumerate(trainloader):\n",
    "        # get the inputs; data is a list of [inputs, labels]\n",
    "        inputs = data['position'].reshape(1, 513).float()#.cuda()\n",
    "        labels = data['eval'].float()#.cuda()\n",
    "\n",
    "        # zero the parameter gradients\n",
    "        optimizer.zero_grad()\n",
    "\n",
    "        # forward + backward + optimize\n",
    "        outputs = net(inputs)\n",
    "        loss = criterion(outputs, labels)\n",
    "        loss.backward()\n",
    "        optimizer.step()\n",
    "\n",
    "        # print statistics\n",
    "        running_loss += loss.item()\n",
    "        if i % 400 == 399:    # print every 2000 mini-batches\n",
    "            print('[%d, %5d] loss: %.3f' %\n",
    "                  (epoch + 1, i + 1, running_loss / 400))\n",
    "            running_loss = 0.0\n",
    "\n",
    "print('Finished Training')"
   ]
  },
  {
   "cell_type": "code",
   "execution_count": 10,
   "metadata": {},
   "outputs": [],
   "source": [
    "def compare_eval():\n",
    "    board = generate_rand_board()\n",
    "    #print(convert_board(board))\n",
    "    torch_board = torch.from_numpy(convert_board(board).reshape(1, 513)).float()\n",
    "    net_eval = net(torch_board)\n",
    "    sf_eval = stockfish_evaluation(board)\n",
    "    print(f\"NN: {net_eval} Stockfish: {sf_eval/100}\")\n",
    "    "
   ]
  },
  {
   "cell_type": "code",
   "execution_count": 11,
   "metadata": {},
   "outputs": [
    {
     "output_type": "stream",
     "name": "stdout",
     "text": [
      "NN: tensor([-1.2406], grad_fn=<AddBackward0>) Stockfish: -3.33\nNN: tensor([2.9934], grad_fn=<AddBackward0>) Stockfish: -1.76\nNN: tensor([13.5828], grad_fn=<AddBackward0>) Stockfish: 1.46\nNN: tensor([-0.4147], grad_fn=<AddBackward0>) Stockfish: -0.65\nNN: tensor([11.6987], grad_fn=<AddBackward0>) Stockfish: 13.32\n"
     ]
    }
   ],
   "source": [
    "for _ in range(5):\n",
    "    compare_eval()"
   ]
  },
  {
   "source": [
    "# Choosing Best Move with Minimax"
   ],
   "cell_type": "code",
   "metadata": {},
   "execution_count": 12,
   "outputs": []
  },
  {
   "cell_type": "code",
   "execution_count": 38,
   "metadata": {},
   "outputs": [],
   "source": [
    "def nn_prediction(position: chess.Board):\n",
    "    board_rep = convert_board(position)\n",
    "    torch_board = torch.from_numpy(board_rep.reshape(1, 513)).float()\n",
    "    return net(torch_board)\n"
   ]
  },
  {
   "cell_type": "code",
   "execution_count": 39,
   "metadata": {},
   "outputs": [],
   "source": [
    "\n",
    "        \n",
    "\n",
    "def minimax(position: chess.Board, maximizing_player, depth: int = 5): # alpha: int = -1e9, beta: int = 1e9 \n",
    "    \"\"\"\n",
    "    Minimax with alpha-beta pruning to save time\n",
    "    \"\"\"\n",
    "    #just used minimax from connectx kaggle agent\n",
    "\n",
    "    alpha = -1000 #could be -np.Inf\n",
    "    beta = 1000\n",
    "    if depth == 0 or position.is_game_over():\n",
    "        return nn_prediction(position)\n",
    "\n",
    "    if maximizing_player:\n",
    "        value = -np.Inf\n",
    "        for move in position.legal_moves:\n",
    "            pos_copy = position.copy()\n",
    "            if position.remove_piece_at(move.from_square).color == chess.BLACK:\n",
    "                position = pos_copy.copy()\n",
    "                continue\n",
    "            position.push(move)\n",
    "            value = max(value, minimax(position, False, depth - 1))\n",
    "            position.pop()\n",
    "            alpha = max(alpha, value)\n",
    "            if beta <= alpha:\n",
    "                break\n",
    "        return value\n",
    "\n",
    "    else:\n",
    "        value = np.Inf\n",
    "        for move in position.legal_moves:\n",
    "            pos_copy = position.copy()\n",
    "            if position.remove_piece_at(move.from_square).color == chess.WHITE:\n",
    "                position = pos_copy.copy()\n",
    "                continue\n",
    "            position.push(move)\n",
    "            value = max(value, minimax(position, True, depth - 1))\n",
    "            position.pop()\n",
    "            beta = min(beta, value)\n",
    "            if beta <= alpha:\n",
    "                break\n",
    "        return value"
   ]
  },
  {
   "cell_type": "code",
   "execution_count": 48,
   "metadata": {},
   "outputs": [],
   "source": [
    "def find_best_move(position: chess.Board, depth: int = 0):\n",
    "    best_evaluation = -1000\n",
    "   \n",
    "    for move in position.legal_moves:\n",
    "        print(move)\n",
    "        value = -1000\n",
    "        # pos_copy = position.copy()\n",
    "        # if position.remove_piece_at(move.from_square).color == chess.BLACK:\n",
    "        #     position = pos_copy.copy()\n",
    "        #     continue\n",
    "        print(move)\n",
    "        position.push(move)\n",
    "        if depth != 0:\n",
    "            if position.turn == chess.WHITE:\n",
    "                value = minimax(position, False, depth - 1) \n",
    "            else:\n",
    "                value = minimax(position, True, depth - 1) \n",
    "        position.pop()\n",
    "        if value > best_evaluation:\n",
    "            best_evaluation = value\n",
    "            best_move = move\n",
    "    return best_move\n"
   ]
  },
  {
   "cell_type": "code",
   "execution_count": 46,
   "metadata": {},
   "outputs": [],
   "source": [
    "def play_game():\n",
    "    board = chess.Board()\n",
    "    board.push_san(\"e4\")\n",
    "    board.push_san(\"e5\")    \n",
    "    while not board.is_game_over():\n",
    "        print(board)\n",
    "        nn_move = find_best_move(board,1)\n",
    "        print(nn_move)\n",
    "        board.push(nn_move)\n",
    "        moved = False\n",
    "        while not moved:\n",
    "            try:\n",
    "                board.push_san((input('your move')))\n",
    "                moved = True\n",
    "            except:\n",
    "                moved = False\n"
   ]
  },
  {
   "cell_type": "code",
   "execution_count": 49,
   "metadata": {},
   "outputs": [
    {
     "output_type": "stream",
     "name": "stdout",
     "text": [
      "r n b q k b n r\np p p p . p p p\n. . . . . . . .\n. . . . p . . .\n. . . . P . . .\n. . . . . . . .\nP P P P . P P P\nR N B Q K B N R\ng1h3\ng1h3\n"
     ]
    },
    {
     "output_type": "error",
     "ename": "AssertionError",
     "evalue": "push() expects move to be pseudo-legal, but got g1h3 in rnbqkbnr/pppp1ppp/8/4p3/4P3/8/PPPP1PPP/RNBQKB1R",
     "traceback": [
      "\u001b[1;31m---------------------------------------------------------------------------\u001b[0m",
      "\u001b[1;31mAssertionError\u001b[0m                            Traceback (most recent call last)",
      "\u001b[1;32m<ipython-input-49-51076e9b4cab>\u001b[0m in \u001b[0;36m<module>\u001b[1;34m\u001b[0m\n\u001b[1;32m----> 1\u001b[1;33m \u001b[0mplay_game\u001b[0m\u001b[1;33m(\u001b[0m\u001b[1;33m)\u001b[0m\u001b[1;33m\u001b[0m\u001b[1;33m\u001b[0m\u001b[0m\n\u001b[0m",
      "\u001b[1;32m<ipython-input-46-f31a100416e1>\u001b[0m in \u001b[0;36mplay_game\u001b[1;34m()\u001b[0m\n\u001b[0;32m      5\u001b[0m     \u001b[1;32mwhile\u001b[0m \u001b[1;32mnot\u001b[0m \u001b[0mboard\u001b[0m\u001b[1;33m.\u001b[0m\u001b[0mis_game_over\u001b[0m\u001b[1;33m(\u001b[0m\u001b[1;33m)\u001b[0m\u001b[1;33m:\u001b[0m\u001b[1;33m\u001b[0m\u001b[1;33m\u001b[0m\u001b[0m\n\u001b[0;32m      6\u001b[0m         \u001b[0mprint\u001b[0m\u001b[1;33m(\u001b[0m\u001b[0mboard\u001b[0m\u001b[1;33m)\u001b[0m\u001b[1;33m\u001b[0m\u001b[1;33m\u001b[0m\u001b[0m\n\u001b[1;32m----> 7\u001b[1;33m         \u001b[0mnn_move\u001b[0m \u001b[1;33m=\u001b[0m \u001b[0mfind_best_move\u001b[0m\u001b[1;33m(\u001b[0m\u001b[0mboard\u001b[0m\u001b[1;33m,\u001b[0m\u001b[1;36m1\u001b[0m\u001b[1;33m)\u001b[0m\u001b[1;33m\u001b[0m\u001b[1;33m\u001b[0m\u001b[0m\n\u001b[0m\u001b[0;32m      8\u001b[0m         \u001b[0mprint\u001b[0m\u001b[1;33m(\u001b[0m\u001b[0mnn_move\u001b[0m\u001b[1;33m)\u001b[0m\u001b[1;33m\u001b[0m\u001b[1;33m\u001b[0m\u001b[0m\n\u001b[0;32m      9\u001b[0m         \u001b[0mboard\u001b[0m\u001b[1;33m.\u001b[0m\u001b[0mpush\u001b[0m\u001b[1;33m(\u001b[0m\u001b[0mnn_move\u001b[0m\u001b[1;33m)\u001b[0m\u001b[1;33m\u001b[0m\u001b[1;33m\u001b[0m\u001b[0m\n",
      "\u001b[1;32m<ipython-input-48-c985267cd8da>\u001b[0m in \u001b[0;36mfind_best_move\u001b[1;34m(position, depth)\u001b[0m\n\u001b[0;32m     10\u001b[0m             \u001b[1;32mcontinue\u001b[0m\u001b[1;33m\u001b[0m\u001b[1;33m\u001b[0m\u001b[0m\n\u001b[0;32m     11\u001b[0m         \u001b[0mprint\u001b[0m\u001b[1;33m(\u001b[0m\u001b[0mmove\u001b[0m\u001b[1;33m)\u001b[0m\u001b[1;33m\u001b[0m\u001b[1;33m\u001b[0m\u001b[0m\n\u001b[1;32m---> 12\u001b[1;33m         \u001b[0mposition\u001b[0m\u001b[1;33m.\u001b[0m\u001b[0mpush\u001b[0m\u001b[1;33m(\u001b[0m\u001b[0mmove\u001b[0m\u001b[1;33m)\u001b[0m\u001b[1;33m\u001b[0m\u001b[1;33m\u001b[0m\u001b[0m\n\u001b[0m\u001b[0;32m     13\u001b[0m         \u001b[1;32mif\u001b[0m \u001b[0mdepth\u001b[0m \u001b[1;33m!=\u001b[0m \u001b[1;36m0\u001b[0m\u001b[1;33m:\u001b[0m\u001b[1;33m\u001b[0m\u001b[1;33m\u001b[0m\u001b[0m\n\u001b[0;32m     14\u001b[0m             \u001b[1;32mif\u001b[0m \u001b[0mposition\u001b[0m\u001b[1;33m.\u001b[0m\u001b[0mturn\u001b[0m \u001b[1;33m==\u001b[0m \u001b[0mchess\u001b[0m\u001b[1;33m.\u001b[0m\u001b[0mWHITE\u001b[0m\u001b[1;33m:\u001b[0m\u001b[1;33m\u001b[0m\u001b[1;33m\u001b[0m\u001b[0m\n",
      "\u001b[1;32m~\\AppData\\Local\\Programs\\Python\\Python39\\lib\\site-packages\\chess\\__init__.py\u001b[0m in \u001b[0;36mpush\u001b[1;34m(self, move)\u001b[0m\n\u001b[0;32m   2173\u001b[0m         \u001b[0mpromoted\u001b[0m \u001b[1;33m=\u001b[0m \u001b[0mbool\u001b[0m\u001b[1;33m(\u001b[0m\u001b[0mself\u001b[0m\u001b[1;33m.\u001b[0m\u001b[0mpromoted\u001b[0m \u001b[1;33m&\u001b[0m \u001b[0mfrom_bb\u001b[0m\u001b[1;33m)\u001b[0m\u001b[1;33m\u001b[0m\u001b[1;33m\u001b[0m\u001b[0m\n\u001b[0;32m   2174\u001b[0m         \u001b[0mpiece_type\u001b[0m \u001b[1;33m=\u001b[0m \u001b[0mself\u001b[0m\u001b[1;33m.\u001b[0m\u001b[0m_remove_piece_at\u001b[0m\u001b[1;33m(\u001b[0m\u001b[0mmove\u001b[0m\u001b[1;33m.\u001b[0m\u001b[0mfrom_square\u001b[0m\u001b[1;33m)\u001b[0m\u001b[1;33m\u001b[0m\u001b[1;33m\u001b[0m\u001b[0m\n\u001b[1;32m-> 2175\u001b[1;33m         \u001b[1;32massert\u001b[0m \u001b[0mpiece_type\u001b[0m \u001b[1;32mis\u001b[0m \u001b[1;32mnot\u001b[0m \u001b[1;32mNone\u001b[0m\u001b[1;33m,\u001b[0m \u001b[1;34mf\"push() expects move to be pseudo-legal, but got {move} in {self.board_fen()}\"\u001b[0m\u001b[1;33m\u001b[0m\u001b[1;33m\u001b[0m\u001b[0m\n\u001b[0m\u001b[0;32m   2176\u001b[0m         \u001b[0mcapture_square\u001b[0m \u001b[1;33m=\u001b[0m \u001b[0mmove\u001b[0m\u001b[1;33m.\u001b[0m\u001b[0mto_square\u001b[0m\u001b[1;33m\u001b[0m\u001b[1;33m\u001b[0m\u001b[0m\n\u001b[0;32m   2177\u001b[0m         \u001b[0mcaptured_piece_type\u001b[0m \u001b[1;33m=\u001b[0m \u001b[0mself\u001b[0m\u001b[1;33m.\u001b[0m\u001b[0mpiece_type_at\u001b[0m\u001b[1;33m(\u001b[0m\u001b[0mcapture_square\u001b[0m\u001b[1;33m)\u001b[0m\u001b[1;33m\u001b[0m\u001b[1;33m\u001b[0m\u001b[0m\n",
      "\u001b[1;31mAssertionError\u001b[0m: push() expects move to be pseudo-legal, but got g1h3 in rnbqkbnr/pppp1ppp/8/4p3/4P3/8/PPPP1PPP/RNBQKB1R"
     ]
    }
   ],
   "source": [
    "play_game()"
   ]
  }
 ]
}